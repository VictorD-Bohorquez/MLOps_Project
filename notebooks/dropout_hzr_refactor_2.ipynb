{
 "cells": [
  {
   "cell_type": "code",
   "execution_count": 1,
   "metadata": {},
   "outputs": [],
   "source": [
    "import pandas as pd\n",
    "import os\n",
    "\n",
    "from datetime import datetime\n",
    "\n",
    "from sklearn.preprocessing import StandardScaler, LabelEncoder\n",
    "from sklearn.model_selection import train_test_split, GridSearchCV\n",
    "from sklearn.ensemble import RandomForestClassifier, GradientBoostingClassifier\n",
    "from sklearn.svm import SVC\n",
    "from xgboost import XGBClassifier\n",
    "from lightgbm import LGBMClassifier\n",
    "from sklearn.neighbors import KNeighborsClassifier\n",
    "from sklearn.metrics import accuracy_score, precision_score, recall_score\n",
    "\n",
    "import mlflow\n",
    "import mlflow.sklearn\n"
   ]
  },
  {
   "cell_type": "code",
   "execution_count": 2,
   "metadata": {},
   "outputs": [],
   "source": [
    "class DataHandler:\n",
    "    def __init__(self, data_path = None):\n",
    "        self.data_path = data_path\n",
    "\n",
    "    def load_dataset(self, filename):\n",
    "        if self.data_path is None:\n",
    "            os.chdir(r'C:\\Users\\hzapi\\OneDrive\\Documents\\Hans Files\\07_MNA\\13_TC5044_Operaciones de aprendizaje automático\\98_Git\\MLOps_Project\\data\\raw')\n",
    "            df_read = pd.read_csv(filename, sep = ';')\n",
    "            print('Read OS success')\n",
    "        else:\n",
    "            path_dir = self.data_path + '\\\\' + filename\n",
    "            df_read = pd.read_csv(filename, sep = ';')\n",
    "            print('Read path success')\n",
    "        return df_read"
   ]
  },
  {
   "cell_type": "code",
   "execution_count": 3,
   "metadata": {},
   "outputs": [],
   "source": [
    "class MLFlowLogger:\n",
    "    def __init__(self, experiment_name, tracking_uri = 'http://localhost:5000'):\n",
    "        mlflow.set_tracking_uri(tracking_uri)\n",
    "        mlflow.set_experiment(experiment_name)\n",
    "        \n",
    "    def log_experiment(self, best_model, accuracy, precision, recall, X_sample, run_name = None):\n",
    "        with mlflow.start_run(run_name = run_name):\n",
    "            mlflow.sklearn.log_model(best_model, 'best_model', input_example = X_sample)\n",
    "            \n",
    "            mlflow.log_metric('accuracy', accuracy)\n",
    "            mlflow.log_metric('precision', precision)\n",
    "            mlflow.log_metric('recall', recall)\n",
    "            mlflow.end_run()"
   ]
  },
  {
   "cell_type": "code",
   "execution_count": 4,
   "metadata": {},
   "outputs": [],
   "source": [
    "class FeatureEngineer:\n",
    "    def __init__(self):\n",
    "        self.label_encoder = LabelEncoder()\n",
    "\n",
    "    def process(self, df_interest, target):\n",
    "        df_filter = df_interest[df_interest['Age at enrollment'] <= df_interest['Age at enrollment'].quantile(0.90)].copy()\n",
    "        df_filter[target] = df_filter[target].fillna('Unknown')\n",
    "        df_filter['encoded_target'] = self.label_encoder.fit_transform(df_filter[target])\n",
    "        df_filter = df_filter.drop(target, axis = 1)\n",
    "        return df_filter, df_filter['encoded_target'].name\n",
    "    \n",
    "    def model_data_prep (self, df_interest, features, target, train_split = 0.3):\n",
    "        features_df = df_interest[features].copy()\n",
    "        target_df = df_interest[target].copy()\n",
    "        \n",
    "        X_train, X_test, y_train, y_test = train_test_split(features_df, target_df, test_size = train_split, random_state = 42)\n",
    "        X_val, X_test, y_val, y_test = train_test_split(X_test, y_test, test_size = 0.5, random_state = 42)\n",
    "\n",
    "        scaler = StandardScaler()\n",
    "\n",
    "        X_train = scaler.fit_transform(X_train)\n",
    "        X_test = scaler.transform(X_test)\n",
    "        X_val = scaler.transform(X_val)\n",
    "\n",
    "        y_train = y_train.values.ravel()\n",
    "        y_test = y_test.values.ravel()\n",
    "        y_val = y_val.values.ravel()\n",
    "\n",
    "        return df_interest, scaler, X_train, X_test, X_val, y_train, y_test, y_val"
   ]
  },
  {
   "cell_type": "code",
   "execution_count": 5,
   "metadata": {},
   "outputs": [],
   "source": [
    "class ModelTrainer:\n",
    "    def __init__(self, model, param_grid, experiment_name = None):\n",
    "        self.model = model\n",
    "        self.param_grid = param_grid\n",
    "        self.logger = None\n",
    "        if experiment_name:\n",
    "            self.logger = MLFlowLogger(experiment_name)\n",
    "\n",
    "    def train(self, X_train, X_test, y_train, y_test):\n",
    "        grid_search = GridSearchCV(self.model, self.param_grid, cv = 3, n_jobs = -1, verbose = 2)\n",
    "        grid_search.fit(X_train, y_train.ravel())\n",
    "        best_mod = grid_search.best_estimator_\n",
    "        y_pred = best_mod.predict(X_test)\n",
    "        return  best_mod, y_pred\n",
    "\n",
    "    def evaluate(self, model, y_test, y_pred):\n",
    "\n",
    "        accuracy = accuracy_score(y_test, y_pred)\n",
    "        precision = precision_score(y_test, y_pred, average = 'weighted')\n",
    "        recall = recall_score(y_test, y_pred, average = 'weighted')\n",
    "        print(f'Dropout Model Accuracy: {accuracy}, Precision: {precision}, Recall: {recall})')\n",
    "        return accuracy, precision, recall\n",
    "    \n",
    "    def log(self, X_train, model, accuracy, precision, recall, model_name = None):\n",
    "        X_sample = X_train[0:1]\n",
    "        current_datetime = datetime.now()\n",
    "        datetime_string = current_datetime.strftime(\"%Y-%m-%d %H:%M:%S\")\n",
    "        model_hash = model_name + '_' + datetime_string + '_HZR'\n",
    "        if self.logger:\n",
    "            self.logger.log_experiment(model, accuracy, precision, recall, X_sample, model_hash)\n"
   ]
  },
  {
   "cell_type": "code",
   "execution_count": 6,
   "metadata": {},
   "outputs": [
    {
     "name": "stdout",
     "output_type": "stream",
     "text": [
      "Read OS success\n"
     ]
    },
    {
     "name": "stderr",
     "output_type": "stream",
     "text": [
      "c:\\Users\\hzapi\\AppData\\Local\\Programs\\Python\\Python310\\lib\\site-packages\\sklearn\\preprocessing\\_label.py:114: DataConversionWarning: A column-vector y was passed when a 1d array was expected. Please change the shape of y to (n_samples, ), for example using ravel().\n",
      "  y = column_or_1d(y, warn=True)\n"
     ]
    }
   ],
   "source": [
    "data_handler = DataHandler()\n",
    "df_student = data_handler.load_dataset('data.csv')\n",
    "\n",
    "model_target = ['Target']\n",
    "model_features = df_student.copy().drop(model_target, axis = 1).columns\n",
    "\n",
    "feature_engineer = FeatureEngineer()\n",
    "df_processed, target = feature_engineer.process(df_student, model_target)\n",
    "df_interest, scaler, X_train, X_test, X_val, y_train, y_test, y_val = feature_engineer.model_data_prep(df_processed, model_features, target)\n",
    "\n"
   ]
  },
  {
   "cell_type": "code",
   "execution_count": 7,
   "metadata": {},
   "outputs": [],
   "source": [
    "models = {\n",
    "        'Random Forest': RandomForestClassifier(random_state = 42),\n",
    "        'Gradient Boosting': GradientBoostingClassifier(random_state = 42),\n",
    "        'XGBoost': XGBClassifier(random_state = 42),\n",
    "        'Light GBM': LGBMClassifier(random_state = 42, verbosity = -1),\n",
    "        'SVC': SVC(),\n",
    "        'KNN': KNeighborsClassifier()\n",
    "}"
   ]
  },
  {
   "cell_type": "code",
   "execution_count": 8,
   "metadata": {},
   "outputs": [],
   "source": [
    "param_grids = {\n",
    "        'Random Forest': \n",
    "        {\n",
    "                'n_estimators': [50, 100, 200],\n",
    "                'max_depth': [None, 10, 20, 30],\n",
    "                'min_samples_split': [2, 5, 10]\n",
    "        },\n",
    "        \n",
    "        'Gradient Boosting': \n",
    "        {\n",
    "                'n_estimators': [50, 100, 200],\n",
    "                'learning_rate': [0.01, 0.1, 0.2],\n",
    "                'max_depth': [3, 4, 5] \n",
    "        },\n",
    "\n",
    "        'XGBoost': \n",
    "        {\n",
    "                'n_estimators': [50, 100, 200],\n",
    "                'learning_rate': [0.01, 0.1, 0.2],\n",
    "                'max_depth': [3, 4, 5]\n",
    "        },\n",
    "        \n",
    "        'Light GBM': \n",
    "        {\n",
    "                'n_estimators': [50, 100, 200],\n",
    "                'learning_rate': [0.01, 0.1, 0.2],\n",
    "                'max_depth': [3, 4, 5]\n",
    "        },\n",
    "\n",
    "        'SVC': {\n",
    "                'C': [0.1, 1, 10],\n",
    "                'gamma': [0.01, 0.1, 1],\n",
    "                'kernel': ['linear', 'rbf']\n",
    "        },        \n",
    "        \n",
    "        'KNN': {\n",
    "                'n_neighbors': [3, 5, 10],\n",
    "                'weights': ['uniform', 'distance'],\n",
    "                'algorithm': ['auto', 'ball_tree', 'kd_tree']\n",
    "        }\n",
    "}"
   ]
  },
  {
   "cell_type": "code",
   "execution_count": 9,
   "metadata": {},
   "outputs": [
    {
     "name": "stdout",
     "output_type": "stream",
     "text": [
      "Model Training:  Random Forest\n",
      "Fitting 3 folds for each of 36 candidates, totalling 108 fits\n",
      "Dropout Model Accuracy: 0.7575250836120402, Precision: 0.7371038672186181, Recall: 0.7575250836120402)\n"
     ]
    },
    {
     "data": {
      "application/vnd.jupyter.widget-view+json": {
       "model_id": "98390b302e64450db4be13ba114e84c8",
       "version_major": 2,
       "version_minor": 0
      },
      "text/plain": [
       "Downloading artifacts:   0%|          | 0/7 [00:00<?, ?it/s]"
      ]
     },
     "metadata": {},
     "output_type": "display_data"
    },
    {
     "name": "stderr",
     "output_type": "stream",
     "text": [
      "2024/10/12 14:10:00 INFO mlflow.tracking._tracking_service.client: 🏃 View run Random Forest_2024-10-12 14:09:55_HZR at: http://localhost:5000/#/experiments/3/runs/e495483f52ad48e9ac916068f3e03694.\n",
      "2024/10/12 14:10:00 INFO mlflow.tracking._tracking_service.client: 🧪 View experiment at: http://localhost:5000/#/experiments/3.\n"
     ]
    },
    {
     "name": "stdout",
     "output_type": "stream",
     "text": [
      "Model Training:  Gradient Boosting\n",
      "Fitting 3 folds for each of 27 candidates, totalling 81 fits\n",
      "Dropout Model Accuracy: 0.7725752508361204, Precision: 0.7578945764669582, Recall: 0.7725752508361204)\n"
     ]
    },
    {
     "name": "stderr",
     "output_type": "stream",
     "text": [
      "c:\\Users\\hzapi\\AppData\\Local\\Programs\\Python\\Python310\\lib\\site-packages\\_distutils_hack\\__init__.py:18: UserWarning: Distutils was imported before Setuptools, but importing Setuptools also replaces the `distutils` module in `sys.modules`. This may lead to undesirable behaviors or errors. To avoid these issues, avoid using distutils directly, ensure that setuptools is installed in the traditional way (e.g. not an editable install), and/or make sure that setuptools is always imported before distutils.\n",
      "  warnings.warn(\n",
      "c:\\Users\\hzapi\\AppData\\Local\\Programs\\Python\\Python310\\lib\\site-packages\\_distutils_hack\\__init__.py:33: UserWarning: Setuptools is replacing distutils.\n",
      "  warnings.warn(\"Setuptools is replacing distutils.\")\n"
     ]
    },
    {
     "data": {
      "application/vnd.jupyter.widget-view+json": {
       "model_id": "621eaefeb6ca4307a7aacaf1c504214c",
       "version_major": 2,
       "version_minor": 0
      },
      "text/plain": [
       "Downloading artifacts:   0%|          | 0/7 [00:00<?, ?it/s]"
      ]
     },
     "metadata": {},
     "output_type": "display_data"
    },
    {
     "name": "stderr",
     "output_type": "stream",
     "text": [
      "2024/10/12 14:10:11 INFO mlflow.tracking._tracking_service.client: 🏃 View run Gradient Boosting_2024-10-12 14:10:09_HZR at: http://localhost:5000/#/experiments/3/runs/705d4efebab64ea6b86518f22bd19562.\n",
      "2024/10/12 14:10:11 INFO mlflow.tracking._tracking_service.client: 🧪 View experiment at: http://localhost:5000/#/experiments/3.\n"
     ]
    },
    {
     "name": "stdout",
     "output_type": "stream",
     "text": [
      "Model Training:  XGBoost\n",
      "Fitting 3 folds for each of 27 candidates, totalling 81 fits\n"
     ]
    },
    {
     "name": "stderr",
     "output_type": "stream",
     "text": [
      "c:\\Users\\hzapi\\AppData\\Local\\Programs\\Python\\Python310\\lib\\site-packages\\joblib\\externals\\loky\\process_executor.py:752: UserWarning: A worker stopped while some jobs were given to the executor. This can be caused by a too short worker timeout or by a memory leak.\n",
      "  warnings.warn(\n"
     ]
    },
    {
     "name": "stdout",
     "output_type": "stream",
     "text": [
      "Dropout Model Accuracy: 0.7692307692307693, Precision: 0.7507798298652871, Recall: 0.7692307692307693)\n"
     ]
    },
    {
     "name": "stderr",
     "output_type": "stream",
     "text": [
      "c:\\Users\\hzapi\\AppData\\Local\\Programs\\Python\\Python310\\lib\\site-packages\\_distutils_hack\\__init__.py:18: UserWarning: Distutils was imported before Setuptools, but importing Setuptools also replaces the `distutils` module in `sys.modules`. This may lead to undesirable behaviors or errors. To avoid these issues, avoid using distutils directly, ensure that setuptools is installed in the traditional way (e.g. not an editable install), and/or make sure that setuptools is always imported before distutils.\n",
      "  warnings.warn(\n",
      "c:\\Users\\hzapi\\AppData\\Local\\Programs\\Python\\Python310\\lib\\site-packages\\_distutils_hack\\__init__.py:33: UserWarning: Setuptools is replacing distutils.\n",
      "  warnings.warn(\"Setuptools is replacing distutils.\")\n"
     ]
    },
    {
     "data": {
      "application/vnd.jupyter.widget-view+json": {
       "model_id": "4c9ca3d9c346480c985cf93e96cea015",
       "version_major": 2,
       "version_minor": 0
      },
      "text/plain": [
       "Downloading artifacts:   0%|          | 0/7 [00:00<?, ?it/s]"
      ]
     },
     "metadata": {},
     "output_type": "display_data"
    },
    {
     "name": "stderr",
     "output_type": "stream",
     "text": [
      "2024/10/12 14:10:23 INFO mlflow.tracking._tracking_service.client: 🏃 View run XGBoost_2024-10-12 14:10:20_HZR at: http://localhost:5000/#/experiments/3/runs/1a661fde59b64916abecad424b59f2d6.\n",
      "2024/10/12 14:10:23 INFO mlflow.tracking._tracking_service.client: 🧪 View experiment at: http://localhost:5000/#/experiments/3.\n"
     ]
    },
    {
     "name": "stdout",
     "output_type": "stream",
     "text": [
      "Model Training:  Light GBM\n",
      "Fitting 3 folds for each of 27 candidates, totalling 81 fits\n",
      "Dropout Model Accuracy: 0.7692307692307693, Precision: 0.7536317274274268, Recall: 0.7692307692307693)\n"
     ]
    },
    {
     "name": "stderr",
     "output_type": "stream",
     "text": [
      "c:\\Users\\hzapi\\AppData\\Local\\Programs\\Python\\Python310\\lib\\site-packages\\_distutils_hack\\__init__.py:18: UserWarning: Distutils was imported before Setuptools, but importing Setuptools also replaces the `distutils` module in `sys.modules`. This may lead to undesirable behaviors or errors. To avoid these issues, avoid using distutils directly, ensure that setuptools is installed in the traditional way (e.g. not an editable install), and/or make sure that setuptools is always imported before distutils.\n",
      "  warnings.warn(\n",
      "c:\\Users\\hzapi\\AppData\\Local\\Programs\\Python\\Python310\\lib\\site-packages\\_distutils_hack\\__init__.py:33: UserWarning: Setuptools is replacing distutils.\n",
      "  warnings.warn(\"Setuptools is replacing distutils.\")\n"
     ]
    },
    {
     "data": {
      "application/vnd.jupyter.widget-view+json": {
       "model_id": "7233ef148a2f4b739598f73fafaf92ed",
       "version_major": 2,
       "version_minor": 0
      },
      "text/plain": [
       "Downloading artifacts:   0%|          | 0/7 [00:00<?, ?it/s]"
      ]
     },
     "metadata": {},
     "output_type": "display_data"
    },
    {
     "name": "stderr",
     "output_type": "stream",
     "text": [
      "2024/10/12 14:10:39 INFO mlflow.tracking._tracking_service.client: 🏃 View run Light GBM_2024-10-12 14:10:36_HZR at: http://localhost:5000/#/experiments/3/runs/9771ae3ce7324eb48e833d86b617e8f9.\n",
      "2024/10/12 14:10:39 INFO mlflow.tracking._tracking_service.client: 🧪 View experiment at: http://localhost:5000/#/experiments/3.\n"
     ]
    },
    {
     "name": "stdout",
     "output_type": "stream",
     "text": [
      "Model Training:  SVC\n",
      "Fitting 3 folds for each of 18 candidates, totalling 54 fits\n",
      "Dropout Model Accuracy: 0.774247491638796, Precision: 0.7599055274643832, Recall: 0.774247491638796)\n"
     ]
    },
    {
     "name": "stderr",
     "output_type": "stream",
     "text": [
      "c:\\Users\\hzapi\\AppData\\Local\\Programs\\Python\\Python310\\lib\\site-packages\\_distutils_hack\\__init__.py:18: UserWarning: Distutils was imported before Setuptools, but importing Setuptools also replaces the `distutils` module in `sys.modules`. This may lead to undesirable behaviors or errors. To avoid these issues, avoid using distutils directly, ensure that setuptools is installed in the traditional way (e.g. not an editable install), and/or make sure that setuptools is always imported before distutils.\n",
      "  warnings.warn(\n",
      "c:\\Users\\hzapi\\AppData\\Local\\Programs\\Python\\Python310\\lib\\site-packages\\_distutils_hack\\__init__.py:33: UserWarning: Setuptools is replacing distutils.\n",
      "  warnings.warn(\"Setuptools is replacing distutils.\")\n"
     ]
    },
    {
     "data": {
      "application/vnd.jupyter.widget-view+json": {
       "model_id": "7ee283d5cbab42faa887e03656631751",
       "version_major": 2,
       "version_minor": 0
      },
      "text/plain": [
       "Downloading artifacts:   0%|          | 0/7 [00:00<?, ?it/s]"
      ]
     },
     "metadata": {},
     "output_type": "display_data"
    },
    {
     "name": "stderr",
     "output_type": "stream",
     "text": [
      "2024/10/12 14:10:42 INFO mlflow.tracking._tracking_service.client: 🏃 View run SVC_2024-10-12 14:10:40_HZR at: http://localhost:5000/#/experiments/3/runs/d773eadc9e3e4bde98ef700090fa3fda.\n",
      "2024/10/12 14:10:42 INFO mlflow.tracking._tracking_service.client: 🧪 View experiment at: http://localhost:5000/#/experiments/3.\n"
     ]
    },
    {
     "name": "stdout",
     "output_type": "stream",
     "text": [
      "Model Training:  KNN\n",
      "Fitting 3 folds for each of 18 candidates, totalling 54 fits\n",
      "Dropout Model Accuracy: 0.7224080267558528, Precision: 0.7025216501553763, Recall: 0.7224080267558528)\n"
     ]
    },
    {
     "name": "stderr",
     "output_type": "stream",
     "text": [
      "c:\\Users\\hzapi\\AppData\\Local\\Programs\\Python\\Python310\\lib\\site-packages\\_distutils_hack\\__init__.py:18: UserWarning: Distutils was imported before Setuptools, but importing Setuptools also replaces the `distutils` module in `sys.modules`. This may lead to undesirable behaviors or errors. To avoid these issues, avoid using distutils directly, ensure that setuptools is installed in the traditional way (e.g. not an editable install), and/or make sure that setuptools is always imported before distutils.\n",
      "  warnings.warn(\n",
      "c:\\Users\\hzapi\\AppData\\Local\\Programs\\Python\\Python310\\lib\\site-packages\\_distutils_hack\\__init__.py:33: UserWarning: Setuptools is replacing distutils.\n",
      "  warnings.warn(\"Setuptools is replacing distutils.\")\n"
     ]
    },
    {
     "data": {
      "application/vnd.jupyter.widget-view+json": {
       "model_id": "ac8c4918e8e44ab1803acf3ae9e15ee6",
       "version_major": 2,
       "version_minor": 0
      },
      "text/plain": [
       "Downloading artifacts:   0%|          | 0/7 [00:00<?, ?it/s]"
      ]
     },
     "metadata": {},
     "output_type": "display_data"
    },
    {
     "name": "stderr",
     "output_type": "stream",
     "text": [
      "2024/10/12 14:10:45 INFO mlflow.tracking._tracking_service.client: 🏃 View run KNN_2024-10-12 14:10:42_HZR at: http://localhost:5000/#/experiments/3/runs/42d5b1c91d634288b89723ebb61f04c0.\n",
      "2024/10/12 14:10:45 INFO mlflow.tracking._tracking_service.client: 🧪 View experiment at: http://localhost:5000/#/experiments/3.\n"
     ]
    }
   ],
   "source": [
    "model_trainers = {}\n",
    "\n",
    "experiment_name = 'Student Dropout Prediction'\n",
    "\n",
    "for model_name, model in models.items():\n",
    "    param_grid = param_grids[model_name]\n",
    "    class_name = model_name.replace(' ', '') + 'Trainer'\n",
    "    model_trainer_class = type(class_name, (ModelTrainer,), {})\n",
    "    model_trainers[model_name] = model_trainer_class(model, param_grid, experiment_name)\n",
    "\n",
    "for model_name, trainer in model_trainers.items():\n",
    "    print(f'Model Training: ', model_name)\n",
    "    best_mod, y_pred = trainer.train(X_train, X_test, y_train, y_test)\n",
    "    accuracy, precision, recall = trainer.evaluate(best_mod, y_test, y_pred)\n",
    "    trainer.log(X_train, best_mod, accuracy, precision, recall, model_name)\n",
    "\n",
    "    X_train, model, accuracy, precision, recall, model_name"
   ]
  }
 ],
 "metadata": {
  "kernelspec": {
   "display_name": "Python 3",
   "language": "python",
   "name": "python3"
  },
  "language_info": {
   "codemirror_mode": {
    "name": "ipython",
    "version": 3
   },
   "file_extension": ".py",
   "mimetype": "text/x-python",
   "name": "python",
   "nbconvert_exporter": "python",
   "pygments_lexer": "ipython3",
   "version": "3.10.11"
  }
 },
 "nbformat": 4,
 "nbformat_minor": 2
}
